{
  "cells": [
    {
      "cell_type": "code",
      "execution_count": 145,
      "metadata": {
        "colab": {
          "base_uri": "https://localhost:8080/"
        },
        "id": "mwkWIVP3CixX",
        "outputId": "57271cdb-3aee-4afd-fc05-3ef65712216d"
      },
      "outputs": [
        {
          "output_type": "stream",
          "name": "stdout",
          "text": [
            "[3.         1.77979007 1.23664424 0.77056552 0.40192379 0.14683045\n",
            " 0.01643431 0.01643431 0.14683045 0.40192379 0.77056552 1.23664424\n",
            " 1.77979007 2.37626493 3.        ]\n"
          ]
        }
      ],
      "source": [
        "from numpy import*\n",
        "import math\n",
        "\n",
        "def trajectoryPlanning(x0,t,deltaT,AEPx,fc,z0):\n",
        "  x=zeros(int(t/deltaT))\n",
        "  z=zeros(int(t/deltaT))\n",
        "  x[0]=x0\n",
        "  z[0]=z0\n",
        "  for i in range(1,int(t/deltaT)):\n",
        "    x[i]=x[i-1]+((x0+AEPx-x[i-1])/deltaT)\n",
        "    z[i]=fc*math.sin(math.radians(180*((((i+1)*2)-t)/t)))+z0\n",
        "  return x,z \n",
        "\n",
        "dispy,dispz=trajectoryPlanning(5,30,2,3,3,3)\n",
        "print(dispy)\n",
        "print(dispz)\n"
      ]
    }
  ],
  "metadata": {
    "colab": {
      "provenance": []
    },
    "kernelspec": {
      "display_name": "Python 3",
      "name": "python3"
    },
    "language_info": {
      "name": "python"
    }
  },
  "nbformat": 4,
  "nbformat_minor": 0
}
